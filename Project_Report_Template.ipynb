{
 "cells": [
  {
   "cell_type": "raw",
   "id": "b0b775c8-87e2-4603-8862-1c302fe3b97c",
   "metadata": {},
   "source": [
    "---\n",
    "title: ENTER YOUR TITLE HERE\n",
    "subtitle: Project Report for STAT 303-2 Winter 2025\n",
    "author: ENTER YOUR NAME HERE\n",
    "date: ENTER DATE HERE\n",
    "abstract: _The abstract is to be a brief, italicized text at the top of the report, below the author information. The abstract section must summarize the findings of the analysis in the report, and the recommendations to the stakeholders based on the analysis. You may also briefly mention any relevant results. The abstract should not be more than 200 words in length (0.5 points)_.\n",
    "format: \n",
    "  html:\n",
    "    toc: true\n",
    "    toc-title: Contents\n",
    "    code-fold: true\n",
    "    embed-resources: true\n",
    "    font-size: 100%\n",
    "    toc-depth: 4\n",
    "    mainfont: serif\n",
    "jupyter: python3\n",
    "---"
   ]
  },
  {
   "cell_type": "markdown",
   "id": "7325e50c-e2d6-46ef-8b4b-6a414bda6012",
   "metadata": {},
   "source": [
    "**First of all, note that the report (as an HTML) should not include any code. Your code should be included separately in the code template.**\n",
    "\n",
    "Your report should read like a professional paper that you would publish for a research project or an internship/job. If there is something in the report that can only be explained by showing some code, then you may put the code in the appendix and refer to it. Other than that, all your code will be checked in the code template. \n",
    "\n",
    "To include outputs or figures that are produced by some code and hide the code itself, you need to use the cell settings as shown in a brief example in the Prediction section.\n",
    "\n",
    "**This cell is only informational and should not be kept in the report; you need to delete it while preparing the report using the template.** "
   ]
  },
  {
   "cell_type": "markdown",
   "id": "074a5913-d694-4ad5-92c1-1b7bc44404f7",
   "metadata": {},
   "source": [
    "**Rules for Formatting:** \n",
    "\n",
    "- Everything required in the header cell should be properly entered.\n",
    "- No code should be present in the report (as an HTML).\n",
    "- All the sections included below this cell should be present in the report (except for References and Appendix, if not used).\n",
    "- The indicated cells (including this one) should be deleted from the final report.\n",
    "- The description for each section below this cell should also be deleted from the final report.\n",
    "- No irrelevant text/output/figure should be present in the report.\n",
    "- **0.25 points (out of 15) will be taken off PER formatting rule that is not followed.**\n",
    "\n",
    "**Language:** The language of the report should be professional and always consider both the technical and the real-life aspects of your analysis and results. **If the language is found inadequate, 1 point (out of 15) will be taken off.** You can check with your instructor if you have any questions.\n",
    "\n",
    "**This cell is only informational and should not be kept in the report; you need to delete it while preparing the report using the template.** "
   ]
  },
  {
   "cell_type": "markdown",
   "id": "e81d1a47-c6df-4996-beac-078b07c4268c",
   "metadata": {},
   "source": [
    "## 1) Inspiration\n",
    "\n",
    "Include the reason for your choice of data here. Why is it interesting to you? Why do you think it is worth exploring for this project? Include any motivations or background that you believe is relevant. **(0.5 points)**"
   ]
  },
  {
   "cell_type": "markdown",
   "id": "c52cf72c-1e4b-4dd8-9a38-75a6bd26a2d5",
   "metadata": {},
   "source": [
    "## 2) Stakeholders\n",
    "\n",
    "Who would be the stakeholders of this project; i.e. who would be interested in hearing your results and how would the results benefit them? **(0.5 points)**"
   ]
  },
  {
   "cell_type": "markdown",
   "id": "430e2949-b0d7-4631-a738-0b6bba1fe7a5",
   "metadata": {},
   "source": [
    "## 3) Task and Metrics\n",
    "\n",
    "Will you implement a regression or a classification task on the data? What will be your evaluation metrics and why?\n",
    "\n",
    "**Note:** If the task is classification, accuracy alone will not be considered enough as an evaluation metric. You are expected to understand why from the lecture material.\n",
    "\n",
    "**(1 point)**"
   ]
  },
  {
   "cell_type": "markdown",
   "id": "2cb3ed81-75ae-483e-b3dc-f28ae9cd3ca3",
   "metadata": {},
   "source": [
    "## 4) Data\n",
    "\n",
    "- Identify and describe your data source(s). Include the links/citations, so the readers can access the data.\n",
    "- Describe **(no code or code output here)** the following:\n",
    "    - How many observations and variables does the dataset have?\n",
    "    - What does each observation and variable represent?\n",
    "    - How many variables are numeric and how many variables are categorical?\n",
    "    - Which variables are the predictors and which variable is the response?\n",
    " \n",
    "If the data needed to be cleaned for your analysis, **briefly** describe the steps you took to clean the data. (Data cleaning was last quarter's focus, so it should not be a major part of this report.) **If the data was clean, state \"cleaning was not necessary.\"**\n",
    " \n",
    "**(2 points)**"
   ]
  },
  {
   "cell_type": "markdown",
   "id": "d5e563fa-ee97-4c50-b9d2-2322b87486d4",
   "metadata": {},
   "source": [
    "## 5) Prediction"
   ]
  },
  {
   "cell_type": "markdown",
   "id": "2d92cc13-65bf-42db-8845-a834abfddb49",
   "metadata": {},
   "source": [
    "This is the section for the prediction results and their analysis/discussion. It should include the following aspects:\n",
    "\n",
    "- The training and test performances as the **linear** and **unregularized** model is being developed:\n",
    "    - Start with only one predictor. Record the training and test performances. Explain your reason for starting with that predictor. It can be a numeric reason (such as correlation) or a common sense reason.\n",
    "    - Add the rest of the predictors one by one. **All variables in the data that can be predictors must be used.** Record the training and test performances after adding each predictor.\n",
    "    - Display all results with the corresponding predictor names in a tabular format. You can use a DataFrame or anything else that presents the information in a tidy way. (For example, a numpy array would not be acceptable.)\n",
    "\n",
    "- The test performance and the model coefficients after the **informative** non-linear terms are found in a **systematic** way:\n",
    "    - Trial and error with non-linear terms will not be accepted for this part, which means the statsmodels library cannot be used.\n",
    "    - Using scikit-learn tools, create all the polynomial (interaction and transformation) terms of order 2 and let a regularized model pick the useful non-linearities. Any order above 2 is not mandatory but encouraged to be attempted. You can pick either Ridge or Lasso regularization; you are not required to use both. **Again, all variables in the data that can be predictors must be used.**\n",
    "    - Using the coefficients of the **trained and tuned** model, display the five most important and five least important (linear or non-linear) terms in a tabular format. If you have more than five zero coefficients, display all terms with zero coefficients. You can use a DataFrame or anything else that presents the information (the coefficients and the names) in a tidy way. \n",
    "    - Print (or state) the test performance of the **trained and tuned** model.\n",
    "    \n",
    "- The interpretation of the results:\n",
    "    - Which predictors seem to be the most informative? Which predictors are the least informative? You need to justify your statements with the training and test results.\n",
    "    - Are there any non-linearities in the underlying relationship between the predictors and the response? You need to justify your statements with the test results and the model coefficients.\n",
    " \n",
    "**Please note that an important part of implementing everything above is to have a good understanding of which tool to use and, just as importantly, how to use it. If the results are obtained with the wrong tools and/or the wrong usage, only half credit will be given at most. If you are unsure about your approach, feel free to check with the instructor.**\n",
    "\n",
    "**Just as importantly, you are required to use models covered in class in STAT 303-2. Any predictive analysis that uses unrelated models will not receive any credit.**\n",
    "\n",
    "**(6 points)**"
   ]
  },
  {
   "cell_type": "code",
   "execution_count": 1,
   "id": "e392bfac-dd68-483d-917b-a0a1319e1331",
   "metadata": {},
   "outputs": [
    {
     "data": {
      "image/png": "[encoded data removed]",
      "text/plain": [
       "<Figure size 400x200 with 1 Axes>"
      ]
     },
     "metadata": {},
     "output_type": "display_data"
    }
   ],
   "source": [
    "#| echo: false\n",
    "import matplotlib.pyplot as plt\n",
    "plt.figure(figsize=(4,2))\n",
    "plt.plot(range(10));"
   ]
  },
  {
   "cell_type": "markdown",
   "id": "bd0092ba-1cc3-4e07-b56b-0bbe2005a40e",
   "metadata": {},
   "source": [
    "## 6) Inference"
   ]
  },
  {
   "cell_type": "markdown",
   "id": "593c030b-82d6-40e9-8f9d-ab560fbfa189",
   "metadata": {},
   "source": [
    "This is the section for the inference results and their analysis/discussion. It should include the following aspects:\n",
    "\n",
    "- The summary of a model that includes **at least** 5 different (original) predictors and their non-linear (interaction or transformation) terms. The predictors and the non-linear terms should be selected according to the analysis in the previous (Prediction) section.\n",
    "- A discussion on the effect of each predictor on the response. You are required to use the model coefficients for this. Make sure to interpret the transformation and interaction terms correctly.\n",
    "- A discussion on the **reliability** of the effect of each predictor. You are required to use statistical significance for this.\n",
    "- The amount of the variation in the response explained by the model.\n",
    "\n",
    "**(3 points)**"
   ]
  },
  {
   "cell_type": "markdown",
   "id": "835755f2-7ef2-4127-8219-35dd67ee2e54",
   "metadata": {},
   "source": [
    "## 7) Recommendation to Stakeholders"
   ]
  },
  {
   "cell_type": "markdown",
   "id": "348b17c7-8c19-4ff6-a00a-9725a61107e1",
   "metadata": {},
   "source": [
    "Describe the following points:\n",
    "\n",
    "- What are the main action items for the stakeholders based on your analysis?\n",
    "- What are the limitations  of your analysis that the stakeholders need to be aware of? (\"No limitations\" is not an acceptable response here. Every real-life analysis has its limitations/shortcomings.)\n",
    "- What can be done to overcome those limitations? (Some further analysis, a particular type of additional data, repeating the analysis in a certain way, etc.)\n",
    "\n",
    "**(1 point)**"
   ]
  },
  {
   "cell_type": "markdown",
   "id": "5e38e16b-8b71-4c52-8769-c22d6486f3b6",
   "metadata": {},
   "source": [
    "## 8) Conclusion\n",
    "\n",
    "Include a brief conclusion that summarizes and connects together your findings in the prediction and inference analyses. **(0.5 points)**"
   ]
  },
  {
   "cell_type": "markdown",
   "id": "9238b270-2739-45df-bae3-0ceefeebee1e",
   "metadata": {},
   "source": [
    "## References"
   ]
  },
  {
   "cell_type": "markdown",
   "id": "ec376a5e-b5ec-4df0-aa79-9fdaef5d82a3",
   "metadata": {},
   "source": [
    "If you use any bibliographical references in your report, cite them in the text and list the references here. When cited in the text, enclose the citation number in square brackets, for example: [1]. See sample reference below.\n",
    "\n",
    "[1] Authors. The frobnicatable foo filter, 2014. Face and Gesture submission ID 324. Supplied as additional material\n",
    "fg324.pdf. 3\n",
    "\n",
    "**If you do not have any references, remove this section.**"
   ]
  },
  {
   "cell_type": "markdown",
   "id": "b684b04d-49ab-4024-8085-1d692d53119a",
   "metadata": {},
   "source": [
    "## Appendix"
   ]
  },
  {
   "cell_type": "markdown",
   "id": "e7a2e8e2-d5b4-4534-92e4-f74d6166674b",
   "metadata": {},
   "source": [
    "If there is any supporting/additional material that should not be in the main report, but still carries some relevance to the report, you may include it here. **If you do not have any such material, remove this section.**"
   ]
  }
 ],
 "metadata": {
  "kernelspec": {
   "display_name": "Python 3 (ipykernel)",
   "language": "python",
   "name": "python3"
  },
  "language_info": {
   "codemirror_mode": {
    "name": "ipython",
    "version": 3
   },
   "file_extension": ".py",
   "mimetype": "text/x-python",
   "name": "python",
   "nbconvert_exporter": "python",
   "pygments_lexer": "ipython3",
   "version": "3.11.7"
  }
 },
 "nbformat": 4,
 "nbformat_minor": 5
}
